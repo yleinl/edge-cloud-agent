{
 "cells": [
  {
   "cell_type": "code",
   "execution_count": 1,
   "outputs": [
    {
     "name": "stderr",
     "output_type": "stream",
     "text": [
      "D:\\ProgramData\\anaconda3\\envs\\sionna\\lib\\site-packages\\gevent\\hub.py:161: UserWarning: libuv only supports millisecond timer resolution; all times less will be set to 1 ms\n",
      "  with loop.timer(seconds, ref=ref) as t:\n"
     ]
    }
   ],
   "source": [
    "# not used\n",
    "import gevent.monkey\n",
    "\n",
    "gevent.monkey.patch_all()\n",
    "\n",
    "from locust import HttpUser, task\n",
    "from locust.env import Environment\n",
    "from locust.stats import stats_printer, stats_history\n",
    "from locust.log import setup_logging\n",
    "from locust.runners import STATE_STOPPED\n",
    "import gevent\n",
    "import time\n",
    "import csv\n",
    "import re\n",
    "import json\n",
    "import requests\n",
    "from datetime import datetime, timedelta\n",
    "from prometheus_api_client import PrometheusConnect\n",
    "import numpy as np\n",
    "import os\n",
    "from collections import defaultdict\n",
    "\n",
    "\n",
    "PROM_URLS = [\n",
    "    \"http://yl-01.lab.uvalight.net:31119\",\n",
    "    \"http://yl-02.lab.uvalight.net:31119\",\n",
    "    \"http://yl-03.lab.uvalight.net:31119\",\n",
    "    \"http://yl-04.lab.uvalight.net:31119\",\n",
    "    \"http://yl-06.lab.uvalight.net:31119\"\n",
    "]\n",
    "\n",
    "NODES = [\n",
    "    \"yl-01.lab.uvalight.net\",\n",
    "    \"yl-02.lab.uvalight.net\",\n",
    "    \"yl-03.lab.uvalight.net\",\n",
    "    \"yl-04.lab.uvalight.net\",\n",
    "    \"yl-06.lab.uvalight.net\"\n",
    "]\n",
    "\n",
    "FUNCTION_MAP = {\n",
    "    \"basic\": \"matrix-multiplication\",\n",
    "    \"data_local\": \"image-resize\",\n",
    "    \"dag\": \"task1\"\n",
    "}\n",
    "\n",
    "# ===================== 请求日志缓存 =====================\n",
    "entry_logs = []\n",
    "warmup_done_time = 0\n",
    "\n",
    "def count_offloads(resp):\n",
    "    if not isinstance(resp, dict):\n",
    "        return 0\n",
    "    count = 0\n",
    "    msg = resp.get(\"message\", \"\")\n",
    "    if isinstance(msg, str) and re.search(r\"Offload(ed)?\\s+to\", msg, re.IGNORECASE):\n",
    "        count += 1\n",
    "    nested = resp.get(\"response\")\n",
    "    if isinstance(nested, dict):\n",
    "        count += count_offloads(nested)\n",
    "    return count\n",
    "\n",
    "\n",
    "class FaaSUser(HttpUser):\n",
    "    @task\n",
    "    def call_function(self):\n",
    "        payload = {\n",
    "            \"fn_name\": FUNCTION_MAP.get(os.getenv(\"FUNC_TYPE\", \"basic\"), \"matrix-multiplication\"),\n",
    "            \"payload\": None\n",
    "        }\n",
    "        if os.getenv(\"FUNC_TYPE\") == \"data_local\":\n",
    "            payload[\"payload\"] = \"http://yl-01.lab.uvalight.net:9000/images/image.jpg\"\n",
    "\n",
    "        start = time.time()\n",
    "        with self.client.post(\"/entry\", json=payload, catch_response=True) as response:\n",
    "            try:\n",
    "                resp_json = response.json()\n",
    "                entry_time = resp_json.get(\"total_time\", -1)\n",
    "                architecture = resp_json.get(\"architecture\", \"dynamic\")\n",
    "                flattened = json.dumps(resp_json)\n",
    "                match = re.search(r\"Total time.*?([\\d\\.]+)\", flattened)\n",
    "                # print(match.group(1))\n",
    "                exec_time = float(match.group(1)) if match else None\n",
    "                offload_cnt = count_offloads(resp_json)\n",
    "                if response.status_code == 500:\n",
    "                    print(response.text)\n",
    "                # entry_logs.append({\n",
    "                #     \"status_code\": response.status_code,\n",
    "                #     \"total_time\": float(entry_time),\n",
    "                #     \"exec_time\": exec_time,\n",
    "                #     \"architecture\": architecture,\n",
    "                #     \"offload_cnt\": offload_cnt\n",
    "                # })\n",
    "                if time.time() >= warmup_done_time:\n",
    "                    entry_logs.append({\n",
    "                        \"status_code\": response.status_code,\n",
    "                        \"total_time\": float(entry_time),\n",
    "                        \"exec_time\": exec_time,\n",
    "                        \"architecture\": architecture,\n",
    "                        \"offload_cnt\": offload_cnt\n",
    "                    })\n",
    "\n",
    "                response.success()\n",
    "\n",
    "            except Exception as e:\n",
    "                response.failure(f\"Exception: {e}\")\n",
    "\n",
    "\n",
    "# ===================== Prometheus 查询 =====================\n",
    "def parse_datetime(ts):\n",
    "    return datetime.utcfromtimestamp(ts)\n",
    "\n",
    "\n",
    "def create_prom_clients():\n",
    "    return [PrometheusConnect(url=url, disable_ssl=True) for url in PROM_URLS]\n",
    "\n",
    "\n",
    "def cpu_avg_utilization(prom, start_time, end_time):\n",
    "    query = \"\"\"\n",
    "    100 - (avg by(instance) (rate(node_cpu_seconds_total{mode=\"idle\"}[30s])) * 100)\n",
    "    \"\"\"\n",
    "\n",
    "    metric_data = prom.custom_query_range(\n",
    "        query=query,\n",
    "        start_time=start_time,\n",
    "        end_time=end_time,\n",
    "        step='15s'\n",
    "    )\n",
    "    result = {}\n",
    "    for data in metric_data:\n",
    "        instance = data['metric']['instance'].split(':')[0]\n",
    "        values = [float(v[1]) for v in data['values'] if float(v[1]) > 0]\n",
    "        result[instance] = sum(values) / len(values) * 100 if values else 0.0\n",
    "    return result\n",
    "\n",
    "\n",
    "def memory_avg_utilization(prom, start_time, end_time):\n",
    "    query = \"node_memory_MemTotal_bytes - (node_memory_MemFree_bytes + node_memory_Cached_bytes + node_memory_Buffers_bytes)\"\n",
    "    metric_data = prom.custom_query_range(\n",
    "        query=query,\n",
    "        start_time=start_time,\n",
    "        end_time=end_time,\n",
    "        step='15s'\n",
    "    )\n",
    "    result = {}\n",
    "    for data in metric_data:\n",
    "        instance = data['metric']['instance'].split(':')[0]\n",
    "        values = [float(v[1]) for v in data['values']]\n",
    "        result[instance] = np.mean(values) / 1024 / 1024 if values else 0.0\n",
    "    return result\n",
    "\n",
    "\n",
    "# ===================== 控制逻辑 =====================\n",
    "def reload_architecture(arch):\n",
    "    for node in NODES:\n",
    "        try:\n",
    "            res = requests.post(f\"http://{node}:31113/reload\", json={\"architecture\": arch}, timeout=5)\n",
    "            print(f\"[✓] Reloaded {node} to {arch}: {res.status_code}\")\n",
    "        except Exception as e:\n",
    "            print(f\"[x] Reload error on {node}: {e}\")\n",
    "\n",
    "\n",
    "def run_experiment_stage(host, func_type, arch, users, spawn_rate, duration, output_csv, metrics_output, unit_data):\n",
    "    global entry_logs\n",
    "    entry_logs = []\n",
    "\n",
    "    os.environ[\"FUNC_TYPE\"] = func_type\n",
    "    reload_architecture(arch)\n",
    "    print(f\"🔄 Switched architecture to {arch} | function: {func_type}\")\n",
    "\n",
    "    setup_logging(\"INFO\", None)\n",
    "    env = Environment(user_classes=[FaaSUser])\n",
    "    env.create_local_runner()\n",
    "    env.host = host\n",
    "\n",
    "    gevent.spawn(stats_printer, env.stats)\n",
    "    gevent.spawn(stats_history, env.runner)\n",
    "\n",
    "    # start_time = parse_datetime(time.time())\n",
    "    start_time = datetime.utcnow() + timedelta(seconds=30)\n",
    "    global warmup_done_time\n",
    "    warmup_done_time = time.time() + 30 \n",
    "    env.runner.start(user_count=users, spawn_rate=spawn_rate)\n",
    "    gevent.spawn_later(duration, lambda: env.runner.quit())\n",
    "\n",
    "    while env.runner.state != STATE_STOPPED:\n",
    "        time.sleep(1)\n",
    "    # end_time = parse_datetime(time.time())\n",
    "    end_time = datetime.utcnow()\n",
    "    \n",
    "    NODE_TO_UNIT = {\n",
    "        \"yl-04\": \"cloud-1\",\n",
    "        \"yl-05\": \"cloud-2\",\n",
    "        \"yl-01.lab.uvalight.net\": \"edge-A1\",\n",
    "        \"yl-02.lab.uvalight.net\": \"edge-A2\",\n",
    "        \"yl-03.lab.uvalight.net\": \"edge-B1\",\n",
    "        \"yl-06.lab.uvalight.net\": \"edge-B2\"\n",
    "    }\n",
    "    \n",
    "    unit_stats = defaultdict(lambda: {\"cpu\": [], \"mem\": []})\n",
    "    \n",
    "    prom_clients = create_prom_clients()\n",
    "    for prom in prom_clients:\n",
    "        cpu_query = '100 - (avg by(instance) (rate(node_cpu_seconds_total{mode=\"idle\"}[30s])) * 100)'\n",
    "        cpu_data = prom.custom_query_range(\n",
    "            query=cpu_query,\n",
    "            start_time=start_time,\n",
    "            end_time=end_time,\n",
    "            step='15s'\n",
    "        )\n",
    "        for d in cpu_data:\n",
    "            node = d[\"metric\"][\"instance\"].split(\":\")[0]\n",
    "            unit = NODE_TO_UNIT.get(node)\n",
    "            values = [float(v[1]) for v in d[\"values\"] if float(v[1]) > 0]\n",
    "            if unit and values:\n",
    "                unit_stats[unit][\"cpu\"].append(np.mean(values))\n",
    "    \n",
    "        mem_query = \"node_memory_MemTotal_bytes - (node_memory_MemFree_bytes + node_memory_Cached_bytes + node_memory_Buffers_bytes)\"\n",
    "        mem_data = prom.custom_query_range(\n",
    "            query=mem_query,\n",
    "            start_time=start_time,\n",
    "            end_time=end_time,\n",
    "            step='15s'\n",
    "        )\n",
    "        for d in mem_data:\n",
    "            node = d[\"metric\"][\"instance\"].split(\":\")[0]\n",
    "            unit = NODE_TO_UNIT.get(node)\n",
    "            values = [float(v[1]) for v in d[\"values\"] if float(v[1]) > 0]\n",
    "            if unit and values:\n",
    "                unit_stats[unit][\"mem\"].append(np.mean(values) / 1024 / 1024)\n",
    "    \n",
    "\n",
    "    with open(unit_data, \"a\", newline=\"\") as f:\n",
    "        fieldnames = [\"fn_type\", \"architecture\", \"concurrency\", \"faas_unit\", \"avg_cpu\", \"avg_mem_MB\"]\n",
    "        writer = csv.DictWriter(f, fieldnames=fieldnames)\n",
    "        if f.tell() == 0:\n",
    "            writer.writeheader()\n",
    "    \n",
    "        for unit, stats in unit_stats.items():\n",
    "            writer.writerow({\n",
    "                \"fn_type\": func_type,\n",
    "                \"architecture\": arch,\n",
    "                \"concurrency\": users,\n",
    "                \"faas_unit\": unit,\n",
    "                \"avg_cpu\": round(np.mean(stats[\"cpu\"]), 2) if stats[\"cpu\"] else None,\n",
    "                \"avg_mem_MB\": round(np.mean(stats[\"mem\"]), 2) if stats[\"mem\"] else None,\n",
    "            })\n",
    "\n",
    "    cpu_all = [cpu_avg_utilization(p, start_time, end_time) for p in prom_clients]\n",
    "    mem_all = [memory_avg_utilization(p, start_time, end_time) for p in prom_clients]\n",
    "\n",
    "    flat_cpu = [v for d in cpu_all for v in d.values()]\n",
    "    flat_mem = [v for d in mem_all for v in d.values()]\n",
    "    cpu_avg = sum(flat_cpu) / len(flat_cpu) if flat_cpu else None\n",
    "    mem_avg = sum(flat_mem) / len(flat_mem) if flat_mem else None\n",
    "\n",
    "    with open(output_csv, \"w\", newline=\"\") as f:\n",
    "        fieldnames = [\"fn_type\", \"architecture\", \"status_code\", \"total_time\", \"exec_time\", \"offload_cnt\",\n",
    "                      \"avg_cpu_usage\", \"avg_mem_usage_MB\"]\n",
    "        writer = csv.DictWriter(f, fieldnames=fieldnames)\n",
    "        writer.writeheader()\n",
    "        for row in entry_logs:\n",
    "            row[\"fn_type\"] = func_type\n",
    "            # row[\"architecture\"] = architecture\n",
    "            row[\"avg_cpu_usage\"] = cpu_avg\n",
    "            row[\"avg_mem_usage_MB\"] = mem_avg\n",
    "            writer.writerow(row)\n",
    "\n",
    "    print(f\"✅ Completed: {func_type}-{arch} | saved to {output_csv}\")\n",
    "\n"
   ],
   "metadata": {
    "collapsed": false,
    "ExecuteTime": {
     "end_time": "2025-06-23T15:03:09.799383400Z",
     "start_time": "2025-06-23T15:03:08.393526100Z"
    }
   },
   "id": "initial_id"
  },
  {
   "cell_type": "code",
   "execution_count": 2,
   "outputs": [
    {
     "name": "stdout",
     "output_type": "stream",
     "text": [
      "\n",
      "=== Starting test: 2 users @ 2/s ===\n",
      "→ Running: func=data_local, arch=dynamic, users=2\n",
      "[✓] Reloaded yl-01.lab.uvalight.net to dynamic: 200\n",
      "[✓] Reloaded yl-02.lab.uvalight.net to dynamic: 200\n",
      "[✓] Reloaded yl-03.lab.uvalight.net to dynamic: 200\n",
      "[✓] Reloaded yl-04.lab.uvalight.net to dynamic: 200\n",
      "[✓] Reloaded yl-06.lab.uvalight.net to dynamic: 200\n",
      "🔄 Switched architecture to dynamic | function: data_local\n"
     ]
    },
    {
     "name": "stderr",
     "output_type": "stream",
     "text": [
      "[2025-06-23 17:03:10,306] Lyt2023/INFO/locust.runners: Ramping to 2 users at a rate of 2.00 per second\n",
      "[2025-06-23 17:03:10,306] Lyt2023/INFO/locust.runners: All users spawned: {\"FaaSUser\": 2} (2 total users)\n"
     ]
    },
    {
     "name": "stdout",
     "output_type": "stream",
     "text": [
      "✅ Completed: data_local-dynamic | saved to data_local/results_dynamic_2.csv\n",
      "✔ Finished one configuration. Sleeping 60s...\n",
      "→ Running: func=basic, arch=dynamic, users=2\n",
      "[✓] Reloaded yl-01.lab.uvalight.net to dynamic: 200\n",
      "[✓] Reloaded yl-02.lab.uvalight.net to dynamic: 200\n",
      "[✓] Reloaded yl-03.lab.uvalight.net to dynamic: 200\n"
     ]
    },
    {
     "name": "stderr",
     "output_type": "stream",
     "text": [
      "[2025-06-23 17:07:13,270] Lyt2023/INFO/locust.runners: Ramping to 2 users at a rate of 2.00 per second\n",
      "[2025-06-23 17:07:13,270] Lyt2023/INFO/locust.runners: All users spawned: {\"FaaSUser\": 2} (2 total users)\n"
     ]
    },
    {
     "name": "stdout",
     "output_type": "stream",
     "text": [
      "[✓] Reloaded yl-04.lab.uvalight.net to dynamic: 200\n",
      "[✓] Reloaded yl-06.lab.uvalight.net to dynamic: 200\n",
      "🔄 Switched architecture to dynamic | function: basic\n",
      "✅ Completed: basic-dynamic | saved to basic/results_dynamic_2.csv\n",
      "✔ Finished one configuration. Sleeping 60s...\n",
      "\n",
      "=== Starting test: 4 users @ 4/s ===\n",
      "→ Running: func=data_local, arch=dynamic, users=4\n",
      "[✓] Reloaded yl-01.lab.uvalight.net to dynamic: 200\n",
      "[✓] Reloaded yl-02.lab.uvalight.net to dynamic: 200\n",
      "[✓] Reloaded yl-03.lab.uvalight.net to dynamic: 200\n"
     ]
    },
    {
     "name": "stderr",
     "output_type": "stream",
     "text": [
      "[2025-06-23 17:11:15,207] Lyt2023/INFO/locust.runners: Ramping to 4 users at a rate of 4.00 per second\n",
      "[2025-06-23 17:11:15,210] Lyt2023/INFO/locust.runners: All users spawned: {\"FaaSUser\": 4} (4 total users)\n"
     ]
    },
    {
     "name": "stdout",
     "output_type": "stream",
     "text": [
      "[✓] Reloaded yl-04.lab.uvalight.net to dynamic: 200\n",
      "[✓] Reloaded yl-06.lab.uvalight.net to dynamic: 200\n",
      "🔄 Switched architecture to dynamic | function: data_local\n",
      "✅ Completed: data_local-dynamic | saved to data_local/results_dynamic_4.csv\n",
      "✔ Finished one configuration. Sleeping 60s...\n",
      "→ Running: func=basic, arch=dynamic, users=4\n",
      "[✓] Reloaded yl-01.lab.uvalight.net to dynamic: 200\n",
      "[✓] Reloaded yl-02.lab.uvalight.net to dynamic: 200\n",
      "[✓] Reloaded yl-03.lab.uvalight.net to dynamic: 200\n"
     ]
    },
    {
     "name": "stderr",
     "output_type": "stream",
     "text": [
      "[2025-06-23 17:15:16,904] Lyt2023/INFO/locust.runners: Ramping to 4 users at a rate of 4.00 per second\n",
      "[2025-06-23 17:15:16,909] Lyt2023/INFO/locust.runners: All users spawned: {\"FaaSUser\": 4} (4 total users)\n"
     ]
    },
    {
     "name": "stdout",
     "output_type": "stream",
     "text": [
      "[✓] Reloaded yl-04.lab.uvalight.net to dynamic: 200\n",
      "[✓] Reloaded yl-06.lab.uvalight.net to dynamic: 200\n",
      "🔄 Switched architecture to dynamic | function: basic\n",
      "✅ Completed: basic-dynamic | saved to basic/results_dynamic_4.csv\n",
      "✔ Finished one configuration. Sleeping 60s...\n",
      "\n",
      "=== Starting test: 6 users @ 6/s ===\n",
      "→ Running: func=data_local, arch=dynamic, users=6\n",
      "[✓] Reloaded yl-01.lab.uvalight.net to dynamic: 200\n",
      "[✓] Reloaded yl-02.lab.uvalight.net to dynamic: 200\n",
      "[✓] Reloaded yl-03.lab.uvalight.net to dynamic: 200\n"
     ]
    },
    {
     "name": "stderr",
     "output_type": "stream",
     "text": [
      "[2025-06-23 17:19:18,528] Lyt2023/INFO/locust.runners: Ramping to 6 users at a rate of 6.00 per second\n",
      "[2025-06-23 17:19:18,534] Lyt2023/INFO/locust.runners: All users spawned: {\"FaaSUser\": 6} (6 total users)\n"
     ]
    },
    {
     "name": "stdout",
     "output_type": "stream",
     "text": [
      "[✓] Reloaded yl-04.lab.uvalight.net to dynamic: 200\n",
      "[✓] Reloaded yl-06.lab.uvalight.net to dynamic: 200\n",
      "🔄 Switched architecture to dynamic | function: data_local\n",
      "✅ Completed: data_local-dynamic | saved to data_local/results_dynamic_6.csv\n",
      "✔ Finished one configuration. Sleeping 60s...\n",
      "→ Running: func=basic, arch=dynamic, users=6\n",
      "[✓] Reloaded yl-01.lab.uvalight.net to dynamic: 200\n",
      "[✓] Reloaded yl-02.lab.uvalight.net to dynamic: 200\n",
      "[✓] Reloaded yl-03.lab.uvalight.net to dynamic: 200\n"
     ]
    },
    {
     "name": "stderr",
     "output_type": "stream",
     "text": [
      "[2025-06-23 17:23:20,309] Lyt2023/INFO/locust.runners: Ramping to 6 users at a rate of 6.00 per second\n",
      "[2025-06-23 17:23:20,313] Lyt2023/INFO/locust.runners: All users spawned: {\"FaaSUser\": 6} (6 total users)\n"
     ]
    },
    {
     "name": "stdout",
     "output_type": "stream",
     "text": [
      "[✓] Reloaded yl-04.lab.uvalight.net to dynamic: 200\n",
      "[✓] Reloaded yl-06.lab.uvalight.net to dynamic: 200\n",
      "🔄 Switched architecture to dynamic | function: basic\n",
      "✅ Completed: basic-dynamic | saved to basic/results_dynamic_6.csv\n",
      "✔ Finished one configuration. Sleeping 60s...\n",
      "\n",
      "=== Starting test: 8 users @ 8/s ===\n",
      "→ Running: func=data_local, arch=dynamic, users=8\n",
      "[✓] Reloaded yl-01.lab.uvalight.net to dynamic: 200\n",
      "[✓] Reloaded yl-02.lab.uvalight.net to dynamic: 200\n",
      "[✓] Reloaded yl-03.lab.uvalight.net to dynamic: 200\n"
     ]
    },
    {
     "name": "stderr",
     "output_type": "stream",
     "text": [
      "[2025-06-23 17:27:22,759] Lyt2023/INFO/locust.runners: Ramping to 8 users at a rate of 8.00 per second\n",
      "[2025-06-23 17:27:22,761] Lyt2023/INFO/locust.runners: All users spawned: {\"FaaSUser\": 8} (8 total users)\n"
     ]
    },
    {
     "name": "stdout",
     "output_type": "stream",
     "text": [
      "[✓] Reloaded yl-04.lab.uvalight.net to dynamic: 200\n",
      "[✓] Reloaded yl-06.lab.uvalight.net to dynamic: 200\n",
      "🔄 Switched architecture to dynamic | function: data_local\n",
      "✅ Completed: data_local-dynamic | saved to data_local/results_dynamic_8.csv\n",
      "✔ Finished one configuration. Sleeping 60s...\n",
      "→ Running: func=basic, arch=dynamic, users=8\n",
      "[✓] Reloaded yl-01.lab.uvalight.net to dynamic: 200\n",
      "[✓] Reloaded yl-02.lab.uvalight.net to dynamic: 200\n",
      "[✓] Reloaded yl-03.lab.uvalight.net to dynamic: 200\n"
     ]
    },
    {
     "name": "stderr",
     "output_type": "stream",
     "text": [
      "[2025-06-23 17:31:24,483] Lyt2023/INFO/locust.runners: Ramping to 8 users at a rate of 8.00 per second\n",
      "[2025-06-23 17:31:24,484] Lyt2023/INFO/locust.runners: All users spawned: {\"FaaSUser\": 8} (8 total users)\n"
     ]
    },
    {
     "name": "stdout",
     "output_type": "stream",
     "text": [
      "[✓] Reloaded yl-04.lab.uvalight.net to dynamic: 200\n",
      "[✓] Reloaded yl-06.lab.uvalight.net to dynamic: 200\n",
      "🔄 Switched architecture to dynamic | function: basic\n",
      "✅ Completed: basic-dynamic | saved to basic/results_dynamic_8.csv\n",
      "✔ Finished one configuration. Sleeping 60s...\n",
      "\n",
      "=== Starting test: 10 users @ 10/s ===\n",
      "→ Running: func=data_local, arch=dynamic, users=10\n",
      "[✓] Reloaded yl-01.lab.uvalight.net to dynamic: 200\n",
      "[✓] Reloaded yl-02.lab.uvalight.net to dynamic: 200\n",
      "[✓] Reloaded yl-03.lab.uvalight.net to dynamic: 200\n",
      "[✓] Reloaded yl-04.lab.uvalight.net to dynamic: 200\n"
     ]
    },
    {
     "name": "stderr",
     "output_type": "stream",
     "text": [
      "[2025-06-23 17:35:27,077] Lyt2023/INFO/locust.runners: Ramping to 10 users at a rate of 10.00 per second\n",
      "[2025-06-23 17:35:27,082] Lyt2023/INFO/locust.runners: All users spawned: {\"FaaSUser\": 10} (10 total users)\n"
     ]
    },
    {
     "name": "stdout",
     "output_type": "stream",
     "text": [
      "[✓] Reloaded yl-06.lab.uvalight.net to dynamic: 200\n",
      "🔄 Switched architecture to dynamic | function: data_local\n",
      "✅ Completed: data_local-dynamic | saved to data_local/results_dynamic_10.csv\n",
      "✔ Finished one configuration. Sleeping 60s...\n",
      "→ Running: func=basic, arch=dynamic, users=10\n",
      "[✓] Reloaded yl-01.lab.uvalight.net to dynamic: 200\n",
      "[✓] Reloaded yl-02.lab.uvalight.net to dynamic: 200\n",
      "[✓] Reloaded yl-03.lab.uvalight.net to dynamic: 200\n"
     ]
    },
    {
     "name": "stderr",
     "output_type": "stream",
     "text": [
      "[2025-06-23 17:39:28,968] Lyt2023/INFO/locust.runners: Ramping to 10 users at a rate of 10.00 per second\n",
      "[2025-06-23 17:39:28,968] Lyt2023/INFO/locust.runners: All users spawned: {\"FaaSUser\": 10} (10 total users)\n"
     ]
    },
    {
     "name": "stdout",
     "output_type": "stream",
     "text": [
      "[✓] Reloaded yl-04.lab.uvalight.net to dynamic: 200\n",
      "[✓] Reloaded yl-06.lab.uvalight.net to dynamic: 200\n",
      "🔄 Switched architecture to dynamic | function: basic\n",
      "✅ Completed: basic-dynamic | saved to basic/results_dynamic_10.csv\n",
      "✔ Finished one configuration. Sleeping 60s...\n",
      "\n",
      "=== Starting test: 12 users @ 12/s ===\n",
      "→ Running: func=data_local, arch=dynamic, users=12\n",
      "[✓] Reloaded yl-01.lab.uvalight.net to dynamic: 200\n",
      "[✓] Reloaded yl-02.lab.uvalight.net to dynamic: 200\n",
      "[✓] Reloaded yl-03.lab.uvalight.net to dynamic: 200\n"
     ]
    },
    {
     "name": "stderr",
     "output_type": "stream",
     "text": [
      "[2025-06-23 17:43:30,452] Lyt2023/INFO/locust.runners: Ramping to 12 users at a rate of 12.00 per second\n",
      "[2025-06-23 17:43:30,452] Lyt2023/INFO/locust.runners: All users spawned: {\"FaaSUser\": 12} (12 total users)\n"
     ]
    },
    {
     "name": "stdout",
     "output_type": "stream",
     "text": [
      "[✓] Reloaded yl-04.lab.uvalight.net to dynamic: 200\n",
      "[✓] Reloaded yl-06.lab.uvalight.net to dynamic: 200\n",
      "🔄 Switched architecture to dynamic | function: data_local\n",
      "✅ Completed: data_local-dynamic | saved to data_local/results_dynamic_12.csv\n",
      "✔ Finished one configuration. Sleeping 60s...\n",
      "→ Running: func=basic, arch=dynamic, users=12\n",
      "[✓] Reloaded yl-01.lab.uvalight.net to dynamic: 200\n",
      "[✓] Reloaded yl-02.lab.uvalight.net to dynamic: 200\n",
      "[✓] Reloaded yl-03.lab.uvalight.net to dynamic: 200\n"
     ]
    },
    {
     "name": "stderr",
     "output_type": "stream",
     "text": [
      "[2025-06-23 17:47:32,078] Lyt2023/INFO/locust.runners: Ramping to 12 users at a rate of 12.00 per second\n",
      "[2025-06-23 17:47:32,082] Lyt2023/INFO/locust.runners: All users spawned: {\"FaaSUser\": 12} (12 total users)\n"
     ]
    },
    {
     "name": "stdout",
     "output_type": "stream",
     "text": [
      "[✓] Reloaded yl-04.lab.uvalight.net to dynamic: 200\n",
      "[✓] Reloaded yl-06.lab.uvalight.net to dynamic: 200\n",
      "🔄 Switched architecture to dynamic | function: basic\n",
      "✅ Completed: basic-dynamic | saved to basic/results_dynamic_12.csv\n",
      "✔ Finished one configuration. Sleeping 60s...\n",
      "\n",
      "=== Starting test: 15 users @ 15/s ===\n",
      "→ Running: func=data_local, arch=dynamic, users=15\n",
      "[✓] Reloaded yl-01.lab.uvalight.net to dynamic: 200\n",
      "[✓] Reloaded yl-02.lab.uvalight.net to dynamic: 200\n",
      "[✓] Reloaded yl-03.lab.uvalight.net to dynamic: 200\n"
     ]
    },
    {
     "name": "stderr",
     "output_type": "stream",
     "text": [
      "[2025-06-23 17:51:34,577] Lyt2023/INFO/locust.runners: Ramping to 15 users at a rate of 15.00 per second\n",
      "[2025-06-23 17:51:34,581] Lyt2023/INFO/locust.runners: All users spawned: {\"FaaSUser\": 15} (15 total users)\n"
     ]
    },
    {
     "name": "stdout",
     "output_type": "stream",
     "text": [
      "[✓] Reloaded yl-04.lab.uvalight.net to dynamic: 200\n",
      "[✓] Reloaded yl-06.lab.uvalight.net to dynamic: 200\n",
      "🔄 Switched architecture to dynamic | function: data_local\n",
      "✅ Completed: data_local-dynamic | saved to data_local/results_dynamic_15.csv\n",
      "✔ Finished one configuration. Sleeping 60s...\n",
      "→ Running: func=basic, arch=dynamic, users=15\n",
      "[✓] Reloaded yl-01.lab.uvalight.net to dynamic: 200\n",
      "[✓] Reloaded yl-02.lab.uvalight.net to dynamic: 200\n",
      "[✓] Reloaded yl-03.lab.uvalight.net to dynamic: 200\n"
     ]
    },
    {
     "name": "stderr",
     "output_type": "stream",
     "text": [
      "[2025-06-23 17:55:36,204] Lyt2023/INFO/locust.runners: Ramping to 15 users at a rate of 15.00 per second\n",
      "[2025-06-23 17:55:36,205] Lyt2023/INFO/locust.runners: All users spawned: {\"FaaSUser\": 15} (15 total users)\n"
     ]
    },
    {
     "name": "stdout",
     "output_type": "stream",
     "text": [
      "[✓] Reloaded yl-04.lab.uvalight.net to dynamic: 200\n",
      "[✓] Reloaded yl-06.lab.uvalight.net to dynamic: 200\n",
      "🔄 Switched architecture to dynamic | function: basic\n",
      "✅ Completed: basic-dynamic | saved to basic/results_dynamic_15.csv\n",
      "✔ Finished one configuration. Sleeping 60s...\n",
      "\n",
      "=== Starting test: 20 users @ 20/s ===\n",
      "→ Running: func=data_local, arch=dynamic, users=20\n",
      "[✓] Reloaded yl-01.lab.uvalight.net to dynamic: 200\n",
      "[✓] Reloaded yl-02.lab.uvalight.net to dynamic: 200\n",
      "[✓] Reloaded yl-03.lab.uvalight.net to dynamic: 200\n"
     ]
    },
    {
     "name": "stderr",
     "output_type": "stream",
     "text": [
      "[2025-06-23 17:59:37,672] Lyt2023/INFO/locust.runners: Ramping to 20 users at a rate of 20.00 per second\n",
      "[2025-06-23 17:59:37,675] Lyt2023/INFO/locust.runners: All users spawned: {\"FaaSUser\": 20} (20 total users)\n"
     ]
    },
    {
     "name": "stdout",
     "output_type": "stream",
     "text": [
      "[✓] Reloaded yl-04.lab.uvalight.net to dynamic: 200\n",
      "[✓] Reloaded yl-06.lab.uvalight.net to dynamic: 200\n",
      "🔄 Switched architecture to dynamic | function: data_local\n",
      "✅ Completed: data_local-dynamic | saved to data_local/results_dynamic_20.csv\n",
      "✔ Finished one configuration. Sleeping 60s...\n",
      "→ Running: func=basic, arch=dynamic, users=20\n",
      "[✓] Reloaded yl-01.lab.uvalight.net to dynamic: 200\n",
      "[✓] Reloaded yl-02.lab.uvalight.net to dynamic: 200\n",
      "[✓] Reloaded yl-03.lab.uvalight.net to dynamic: 200\n"
     ]
    },
    {
     "name": "stderr",
     "output_type": "stream",
     "text": [
      "[2025-06-23 18:03:39,245] Lyt2023/INFO/locust.runners: Ramping to 20 users at a rate of 20.00 per second\n",
      "[2025-06-23 18:03:39,249] Lyt2023/INFO/locust.runners: All users spawned: {\"FaaSUser\": 20} (20 total users)\n"
     ]
    },
    {
     "name": "stdout",
     "output_type": "stream",
     "text": [
      "[✓] Reloaded yl-04.lab.uvalight.net to dynamic: 200\n",
      "[✓] Reloaded yl-06.lab.uvalight.net to dynamic: 200\n",
      "🔄 Switched architecture to dynamic | function: basic\n",
      "✅ Completed: basic-dynamic | saved to basic/results_dynamic_20.csv\n",
      "✔ Finished one configuration. Sleeping 60s...\n",
      "\n",
      "=== Starting test: 30 users @ 30/s ===\n",
      "→ Running: func=data_local, arch=dynamic, users=30\n",
      "[✓] Reloaded yl-01.lab.uvalight.net to dynamic: 200\n",
      "[✓] Reloaded yl-02.lab.uvalight.net to dynamic: 200\n",
      "[✓] Reloaded yl-03.lab.uvalight.net to dynamic: 200\n"
     ]
    },
    {
     "name": "stderr",
     "output_type": "stream",
     "text": [
      "[2025-06-23 18:07:40,867] Lyt2023/INFO/locust.runners: Ramping to 30 users at a rate of 30.00 per second\n",
      "[2025-06-23 18:07:40,875] Lyt2023/INFO/locust.runners: All users spawned: {\"FaaSUser\": 30} (30 total users)\n"
     ]
    },
    {
     "name": "stdout",
     "output_type": "stream",
     "text": [
      "[✓] Reloaded yl-04.lab.uvalight.net to dynamic: 200\n",
      "[✓] Reloaded yl-06.lab.uvalight.net to dynamic: 200\n",
      "🔄 Switched architecture to dynamic | function: data_local\n",
      "✅ Completed: data_local-dynamic | saved to data_local/results_dynamic_30.csv\n",
      "✔ Finished one configuration. Sleeping 60s...\n",
      "→ Running: func=basic, arch=dynamic, users=30\n",
      "[✓] Reloaded yl-01.lab.uvalight.net to dynamic: 200\n",
      "[✓] Reloaded yl-02.lab.uvalight.net to dynamic: 200\n",
      "[✓] Reloaded yl-03.lab.uvalight.net to dynamic: 200\n",
      "[✓] Reloaded yl-04.lab.uvalight.net to dynamic: 200\n"
     ]
    },
    {
     "name": "stderr",
     "output_type": "stream",
     "text": [
      "[2025-06-23 18:11:42,439] Lyt2023/INFO/locust.runners: Ramping to 30 users at a rate of 30.00 per second\n",
      "[2025-06-23 18:11:42,447] Lyt2023/INFO/locust.runners: All users spawned: {\"FaaSUser\": 30} (30 total users)\n"
     ]
    },
    {
     "name": "stdout",
     "output_type": "stream",
     "text": [
      "[✓] Reloaded yl-06.lab.uvalight.net to dynamic: 200\n",
      "🔄 Switched architecture to dynamic | function: basic\n",
      "✅ Completed: basic-dynamic | saved to basic/results_dynamic_30.csv\n",
      "✔ Finished one configuration. Sleeping 60s...\n",
      "\n",
      "=== Starting test: 40 users @ 40/s ===\n",
      "→ Running: func=data_local, arch=dynamic, users=40\n",
      "[✓] Reloaded yl-01.lab.uvalight.net to dynamic: 200\n",
      "[✓] Reloaded yl-02.lab.uvalight.net to dynamic: 200\n",
      "[✓] Reloaded yl-03.lab.uvalight.net to dynamic: 200\n"
     ]
    },
    {
     "name": "stderr",
     "output_type": "stream",
     "text": [
      "[2025-06-23 18:15:44,895] Lyt2023/INFO/locust.runners: Ramping to 40 users at a rate of 40.00 per second\n",
      "[2025-06-23 18:15:44,897] Lyt2023/INFO/locust.runners: All users spawned: {\"FaaSUser\": 40} (40 total users)\n"
     ]
    },
    {
     "name": "stdout",
     "output_type": "stream",
     "text": [
      "[✓] Reloaded yl-04.lab.uvalight.net to dynamic: 200\n",
      "[✓] Reloaded yl-06.lab.uvalight.net to dynamic: 200\n",
      "🔄 Switched architecture to dynamic | function: data_local\n",
      "✅ Completed: data_local-dynamic | saved to data_local/results_dynamic_40.csv\n",
      "✔ Finished one configuration. Sleeping 60s...\n",
      "→ Running: func=basic, arch=dynamic, users=40\n",
      "[✓] Reloaded yl-01.lab.uvalight.net to dynamic: 200\n",
      "[✓] Reloaded yl-02.lab.uvalight.net to dynamic: 200\n",
      "[✓] Reloaded yl-03.lab.uvalight.net to dynamic: 200\n"
     ]
    },
    {
     "name": "stderr",
     "output_type": "stream",
     "text": [
      "[2025-06-23 18:19:46,422] Lyt2023/INFO/locust.runners: Ramping to 40 users at a rate of 40.00 per second\n",
      "[2025-06-23 18:19:46,423] Lyt2023/INFO/locust.runners: All users spawned: {\"FaaSUser\": 40} (40 total users)\n"
     ]
    },
    {
     "name": "stdout",
     "output_type": "stream",
     "text": [
      "[✓] Reloaded yl-04.lab.uvalight.net to dynamic: 200\n",
      "[✓] Reloaded yl-06.lab.uvalight.net to dynamic: 200\n",
      "🔄 Switched architecture to dynamic | function: basic\n",
      "✅ Completed: basic-dynamic | saved to basic/results_dynamic_40.csv\n",
      "✔ Finished one configuration. Sleeping 60s...\n"
     ]
    }
   ],
   "source": [
    "host = \"http://yl-01.lab.uvalight.net:31113\"\n",
    "duration = 180\n",
    "# spawn rate and speed\n",
    "concurrency_settings = [\n",
    "    (2, 2),\n",
    "    (4, 4),\n",
    "    (6, 6),\n",
    "    (8, 8),\n",
    "    (10, 10),\n",
    "    (12, 12),\n",
    "    (15, 15),\n",
    "    (20, 20),\n",
    "    (30, 30),\n",
    "    (40, 40),\n",
    "    # (60, 60),\n",
    "]\n",
    "\n",
    "configs = [\n",
    "    # (\"data_local\", \"decentralized\"),\n",
    "    # (\"data_local\", \"federated\"),\n",
    "    # (\"data_local\", \"centralized\"),\n",
    "    (\"data_local\", \"dynamic\"),\n",
    "    # (\"basic\", \"decentralized\"),\n",
    "    # (\"basic\", \"federated\"),\n",
    "    # (\"basic\", \"centralized\"),\n",
    "    (\"basic\", \"dynamic\")\n",
    "]\n",
    "\n",
    "for users, spawn_rate in concurrency_settings:\n",
    "    print(f\"\\n=== Starting test: {users} users @ {spawn_rate}/s ===\")\n",
    "    for func_type, arch in configs:\n",
    "        os.makedirs(func_type, exist_ok=True)\n",
    "        outfile = f\"{func_type}/results_{arch}_{users}.csv\"\n",
    "        print(f\"→ Running: func={func_type}, arch={arch}, users={users}\")\n",
    "        run_experiment_stage(\n",
    "            host=host,\n",
    "            func_type=func_type,\n",
    "            arch=arch,\n",
    "            users=users,\n",
    "            spawn_rate=spawn_rate,\n",
    "            duration=duration,\n",
    "            output_csv=outfile,\n",
    "            metrics_output=f\"{func_type}/metrics_dynamic_{users}.csv\" if arch == \"dynamic\" else None,\n",
    "            unit_data = f\"{func_type}/metrics_unit_{arch}_{users}.csv\"\n",
    "        )\n",
    "        print(\"✔ Finished one configuration. Sleeping 60s...\\n\")\n",
    "        time.sleep(60)"
   ],
   "metadata": {
    "collapsed": false,
    "ExecuteTime": {
     "end_time": "2025-06-23T16:23:48.338908600Z",
     "start_time": "2025-06-23T15:03:09.778885900Z"
    }
   },
   "id": "9c2641b03324c25f"
  },
  {
   "cell_type": "code",
   "execution_count": 3,
   "outputs": [
    {
     "name": "stdout",
     "output_type": "stream",
     "text": [
      "✅ Saved: basic\\results_dynamic_all.csv\n",
      "✅ Saved: data_local\\results_dynamic_all.csv\n"
     ]
    },
    {
     "name": "stderr",
     "output_type": "stream",
     "text": [
      "D:\\ProgramData\\anaconda3\\envs\\sionna\\lib\\site-packages\\gevent\\hub.py:161: UserWarning: libuv only supports millisecond timer resolution; all times less will be set to 1 ms\n",
      "  with loop.timer(seconds, ref=ref) as t:\n"
     ]
    }
   ],
   "source": [
    "import pandas as pd\n",
    "import glob\n",
    "import os\n",
    "\n",
    "def merge_results_by_architecture(folder):\n",
    "    arch_list = [\"centralized\", \"federated\", \"decentralized\", \"dynamic\"]\n",
    "    arch_list = [\"dynamic\"]\n",
    "    for arch in arch_list:\n",
    "        pattern = os.path.join(folder, f\"results_{arch}_*.csv\")\n",
    "        files = sorted(glob.glob(pattern))\n",
    "\n",
    "        df_list = []\n",
    "        for file in files:\n",
    "            df = pd.read_csv(file)\n",
    "            df[\"concurrency\"] = int(file.split(\"_\")[-1].replace(\".csv\", \"\"))\n",
    "            df[\"architecture\"] = arch\n",
    "            df_list.append(df)\n",
    "\n",
    "        if df_list:\n",
    "            combined = pd.concat(df_list, ignore_index=True)\n",
    "            output_file = os.path.join(folder, f\"results_{arch}_all.csv\")\n",
    "            combined.to_csv(output_file, index=False)\n",
    "            print(f\"✅ Saved: {output_file}\")\n",
    "        else:\n",
    "            print(f\"⚠️ No files found for architecture: {arch}\")\n",
    "\n",
    "merge_results_by_architecture(\"basic\")\n",
    "merge_results_by_architecture(\"data_local\")"
   ],
   "metadata": {
    "collapsed": false,
    "ExecuteTime": {
     "end_time": "2025-06-23T16:23:48.726855100Z",
     "start_time": "2025-06-23T16:23:48.344214Z"
    }
   },
   "id": "3b00bc4438bc52e0"
  }
 ],
 "metadata": {
  "kernelspec": {
   "display_name": "Python 3",
   "language": "python",
   "name": "python3"
  },
  "language_info": {
   "codemirror_mode": {
    "name": "ipython",
    "version": 2
   },
   "file_extension": ".py",
   "mimetype": "text/x-python",
   "name": "python",
   "nbconvert_exporter": "python",
   "pygments_lexer": "ipython2",
   "version": "2.7.6"
  }
 },
 "nbformat": 4,
 "nbformat_minor": 5
}
